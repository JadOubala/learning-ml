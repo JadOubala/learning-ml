{
 "cells": [
  {
   "cell_type": "markdown",
   "metadata": {},
   "source": [
    "# Numpy and arrays\n",
    "In class we discussed the ins and outs of using modules and discussed one package `numpy` in detail. Let's do some work with `numpy.ndarray`. "
   ]
  },
  {
   "cell_type": "markdown",
   "metadata": {},
   "source": [
    "Question 1:  Construct a class `rowlabels` that puts labels on axis 0 of an `np.ndarray`after constructing the `np.ndarray` normally. \n",
    "\n",
    "* Its constructor takes three arguments: `self`, the input `data` to `ndarray.__init__` and a flat list `labels` of the axis zero labels that should have the same length as axis zero of `data`. \n",
    "  * It should raise an exception if the labels list and data list are not the same length.\n",
    "  * It should raise an exception if the labels list has duplicate labels. \n",
    "* The method `rowlabels.bylabel(label)` should look up the axis zero entry for that label and return it. \n",
    "  * It should raise an exception if the given label was not defined in the constructor. \n",
    "\n",
    "e.g., after the code \n",
    "        \n",
    "        x = rowlabels([1,2,3], ['foo', 'bar', 'cat'])\n",
    "* `x.bylabel('foo')` should return `1` while \n",
    "* `x.bylabel('bar')` should return `2`.\n",
    "* `x.bylabel('dog')` should raise an exception.\n",
    "\n",
    "Hints: \n",
    "* This is not a subclass. `np.nparray` is difficult to subclass. Instead, embed an instance of `np.nparray` inside `rowlabels`. \n",
    "* For the purposes of these exercises, raise a generic `Exception`. I realize this is poor style, but I would like you to finish this in one lab period:) \n",
    "* I used a regular `dict` to remember which label goes with which row offset. In the above example, this `dict` is `{'foo': 0, 'bar': 1, 'cat': 2}`. \n",
    "\n",
    "*Note that you are building a class that is very similar to a Pandas Series.* "
   ]
  },
  {
   "cell_type": "code",
   "execution_count": 104,
   "metadata": {},
   "outputs": [],
   "source": [
    "import numpy as np\n",
    "\n",
    "class rowlabels: \n",
    "    \n",
    "    def __init__(self, data, labels):\n",
    "        # BEGIN SOLUTION\n",
    "\n",
    "        # Exceptions if length doesn't match\n",
    "        if (len(labels) != len(data)):\n",
    "            raise exception(\"data length doesn't match label length\")\n",
    "\n",
    "        # Exception if duplicates found\n",
    "        set_labels = set(labels)\n",
    "        if (len(labels) != len(set_labels)):\n",
    "            raise exception(\"duplicates found in labels\")\n",
    "\n",
    "        # Ensure data entries are stored as an np.array\n",
    "        self.data = np.array(data)\n",
    "        self.labels = labels\n",
    "\n",
    "        # Use a map (dict) to store and retrieve values\n",
    "        self.label_map = {label: value for value, label in enumerate(labels)} \n",
    "    \n",
    "        # END SOLUTION\n",
    "        \n",
    "    def bylabel(self, label):\n",
    "        # Exception if the label is not found\n",
    "        if label not in self.label_map:\n",
    "            raise Exception(f\"Label '{label}' not found.\")\n",
    "        # BEGIN SOLUTION\n",
    "        #Call by index to match the assert below which seeks a numpy array not just the int index\n",
    "        search_indx = self.label_map[label]\n",
    "        return self.data[search_indx]\n",
    "        # END SOLUTION"
   ]
  },
  {
   "cell_type": "raw",
   "metadata": {},
   "source": [
    "# BEGIN TESTS"
   ]
  },
  {
   "cell_type": "code",
   "execution_count": 79,
   "metadata": {},
   "outputs": [],
   "source": [
    "stuff = rowlabels([1, 2, 3], ['cat', 'dog', 'bat'])\n",
    "assert stuff.bylabel('cat') == 1\n",
    "assert stuff.bylabel('dog') == 2\n",
    "assert stuff.bylabel('bat') == 3"
   ]
  },
  {
   "cell_type": "code",
   "execution_count": 80,
   "metadata": {},
   "outputs": [],
   "source": [
    "from functools import reduce\n",
    "stuff = rowlabels([[1,2]],['foo'])\n",
    "assert isinstance(stuff.bylabel('foo'), np.ndarray)\n",
    "assert reduce(lambda a,b: a and b, stuff.bylabel('foo') == np.array([1,2]))"
   ]
  },
  {
   "cell_type": "code",
   "execution_count": 81,
   "metadata": {},
   "outputs": [],
   "source": [
    "stuff = rowlabels([[1,2]],['foo'])\n",
    "try: \n",
    "    stuff.bylabel('dog')\n",
    "    print(\"fetching non-existent label worked and should not.\")\n",
    "except Exception: \n",
    "    pass"
   ]
  },
  {
   "cell_type": "code",
   "execution_count": 82,
   "metadata": {},
   "outputs": [],
   "source": [
    "try: \n",
    "    x = rowlabels([1,2,3], ['cat', 'dog'])\n",
    "    print(\"able to create a labeledarray with a different number of labels than rows.\")\n",
    "except Exception: \n",
    "    pass"
   ]
  },
  {
   "cell_type": "code",
   "execution_count": 83,
   "metadata": {},
   "outputs": [],
   "source": [
    "try: \n",
    "    x = rowlabels([1,2,3], ['cat', 'dog', 'cat'])\n",
    "    print(\"able to create a labeledarray with duplicate labels!\")\n",
    "except Exception: \n",
    "    pass"
   ]
  },
  {
   "cell_type": "raw",
   "metadata": {},
   "source": [
    "# END TESTS"
   ]
  },
  {
   "cell_type": "markdown",
   "metadata": {},
   "source": [
    "Question 2: Often, data is not organized so nicely. Create a subclass `rawrowlabels` of `rowlabels` that takes a different form of initializer: a list of rows each with structure `['label', ...row structure...]` where `'label'` is the name of the row and `...row structure...` is replaced by row data of parallel structure for each row. E.g., \n",
    "\n",
    "* `x = rawrowlabels([['foo', 1, 2], ['bar', 1, 3]])` and then\n",
    "* `x.bylabel('foo'))` \n",
    "\n",
    "would return `np.array([1,2])`\n",
    "\n",
    "Hints: \n",
    "* Look up and use array slice syntax `a[1:]`.\n",
    "* You only have to define the new constructor. Everything else is defined in the previous problem. "
   ]
  },
  {
   "cell_type": "code",
   "execution_count": 106,
   "metadata": {},
   "outputs": [],
   "source": [
    "class rawrowlabels(rowlabels):  \n",
    "    def __init__(self, data): \n",
    "        # BEGIN SOLUTION\n",
    "        labels = []\n",
    "        row_data = []\n",
    "\n",
    "        # New nparray for row_data\n",
    "        # Iterate for each 'row', or embedded sub-list\n",
    "        for list in data:\n",
    "            labels.append(list[0])\n",
    "            row_data.append(np.array(list[1:]))\n",
    "\n",
    "        # Use the same init and get the map using these new values\n",
    "        super().__init__(row_data, labels)\n",
    "        # END SOLUTION"
   ]
  },
  {
   "cell_type": "raw",
   "metadata": {},
   "source": [
    "# BEGIN TESTS"
   ]
  },
  {
   "cell_type": "code",
   "execution_count": 99,
   "metadata": {},
   "outputs": [],
   "source": [
    "stuff = rawrowlabels([['cat', 1], ['dog', 2], ['rat', 3]])\n",
    "assert stuff.bylabel('cat')[0] == 1\n",
    "assert stuff.bylabel('dog')[0] == 2\n",
    "assert stuff.bylabel('rat')[0] == 3"
   ]
  },
  {
   "cell_type": "code",
   "execution_count": 100,
   "metadata": {},
   "outputs": [],
   "source": [
    "stuff = rawrowlabels([['cat', 1, 2], ['dog', 1, 3], ['horse', 2, 4]])\n",
    "from functools import reduce\n",
    "assert isinstance(stuff.bylabel('dog'), np.ndarray)\n",
    "assert reduce(lambda a,b: a and b, stuff.bylabel('dog') == np.array([1,3]))"
   ]
  },
  {
   "cell_type": "code",
   "execution_count": 101,
   "metadata": {},
   "outputs": [],
   "source": [
    "stuff = rawrowlabels([['cat', 1, 2], ['dog', 1, 3], ['horse', 2, 4]])\n",
    "from functools import reduce\n",
    "assert isinstance(stuff.bylabel('cat'), np.ndarray)\n",
    "assert reduce(lambda a,b: a and b, stuff.bylabel('cat') == np.array([1,2]))"
   ]
  },
  {
   "cell_type": "code",
   "execution_count": 102,
   "metadata": {},
   "outputs": [],
   "source": [
    "stuff = rawrowlabels([['cat', 1, 2], ['dog', 1, 3], ['horse', 2, 4]])\n",
    "from functools import reduce\n",
    "assert isinstance(stuff.bylabel('horse'), np.ndarray)\n",
    "assert reduce(lambda a,b: a and b, stuff.bylabel('horse') == np.array([2,4]))"
   ]
  },
  {
   "cell_type": "code",
   "execution_count": 103,
   "metadata": {},
   "outputs": [],
   "source": [
    "try: \n",
    "    x = rawrowlabels([['cat', 1],['dog', 2],['cat', 3]])\n",
    "    print(\"able to create a labeledarray with duplicate labels!\")\n",
    "except Exception: \n",
    "    pass"
   ]
  },
  {
   "cell_type": "raw",
   "metadata": {},
   "source": [
    "# END TESTS"
   ]
  }
 ],
 "metadata": {
  "kernelspec": {
   "display_name": "Python 3 (ipykernel)",
   "language": "python",
   "name": "python3"
  },
  "language_info": {
   "codemirror_mode": {
    "name": "ipython",
    "version": 3
   },
   "file_extension": ".py",
   "mimetype": "text/x-python",
   "name": "python",
   "nbconvert_exporter": "python",
   "pygments_lexer": "ipython3",
   "version": "3.12.4"
  }
 },
 "nbformat": 4,
 "nbformat_minor": 4
}
