{
 "cells": [
  {
   "cell_type": "markdown",
   "metadata": {},
   "source": [
    "# Coping with real data\n",
    "In lessons, we've discussed the problem of using observed data and the data processing pipeline elements needed to do that.  The key issue is how to tune the hyper-parameters for best accuracy for an observed data pipeline. This is largely a matter of balancing computation time with results. \n",
    "\n",
    "First, let's load the famous \"iris\" dataset from sklearn."
   ]
  },
  {
   "cell_type": "code",
   "execution_count": 2,
   "metadata": {},
   "outputs": [],
   "source": [
    "import pandas as pd\n",
    "import numpy as np\n",
    "import sklearn\n",
    "from sklearn import svm, datasets\n",
    "import matplotlib.pyplot as plt\n",
    "\n",
    "iris = datasets.load_iris()  # iris.data and iris.target"
   ]
  },
  {
   "cell_type": "markdown",
   "metadata": {},
   "source": [
    "And then let's set up a data processing pipeline for the data\n",
    "from sklearn, as in Friday's lecture. "
   ]
  },
  {
   "cell_type": "code",
   "execution_count": 3,
   "metadata": {},
   "outputs": [],
   "source": [
    "from sklearn.preprocessing import StandardScaler\n",
    "from sklearn.svm import SVC\n",
    "from sklearn.pipeline import Pipeline\n",
    "pipe = Pipeline([['scale', StandardScaler()], ['classify', SVC()]])"
   ]
  },
  {
   "cell_type": "markdown",
   "metadata": {},
   "source": [
    "The basic question here is how to train the hyper-parameters of the second step. There are several published methods. Let's try several of them and compare results! The key issue here is *how much computation time we will need to get the best results.* "
   ]
  },
  {
   "cell_type": "markdown",
   "metadata": {},
   "source": [
    "*Question 1*: Tune the hyper-parameters C and gamma for the above pipeline's SVC stage, using values of 1, 10, 100 for C and 0.01, 0.001, 0.0001 for gamma. Train a `GridSearchCV` called `grid`. We'll use this baseline to compare methods. "
   ]
  },
  {
   "cell_type": "raw",
   "metadata": {},
   "source": [
    "# BEGIN SOLUTION"
   ]
  },
  {
   "cell_type": "code",
   "execution_count": 4,
   "metadata": {},
   "outputs": [
    {
     "name": "stdout",
     "output_type": "stream",
     "text": [
      "0.06230899999999995 seconds computation time\n",
      "{'classify__C': 10, 'classify__gamma': 0.01}\n",
      "0.9733333333333334\n"
     ]
    }
   ],
   "source": [
    "from sklearn.model_selection import GridSearchCV\n",
    "import time\n",
    "start = time.process_time()\n",
    "param_grid = {\n",
    "    'classify__C': [1, 10, 100],\n",
    "    'classify__gamma': [0.01, 0.001, 0.0001]\n",
    "}\n",
    "\n",
    "# Set up GridSearchCV with the pipeline and parameter grid\n",
    "grid = GridSearchCV(pipe, param_grid, cv=5)  # 5x cross-validation\n",
    "\n",
    "# Fit grid search to the iris dataset\n",
    "grid.fit(iris.data, iris.target)\n",
    "# END SOLUTION\n",
    "# This printout is for my benefit\n",
    "end = time.process_time()\n",
    "print(end - start, \"seconds computation time\")\n",
    "print(grid.best_params_)\n",
    "print(grid.best_score_)"
   ]
  },
  {
   "cell_type": "raw",
   "metadata": {},
   "source": [
    "# END SOLUTION"
   ]
  },
  {
   "cell_type": "raw",
   "metadata": {},
   "source": [
    "# BEGIN TESTS"
   ]
  },
  {
   "cell_type": "code",
   "execution_count": 5,
   "metadata": {},
   "outputs": [],
   "source": [
    "assert isinstance(grid, sklearn.model_selection._search.GridSearchCV)"
   ]
  },
  {
   "cell_type": "code",
   "execution_count": 6,
   "metadata": {},
   "outputs": [],
   "source": [
    "assert grid.best_params_['classify__C'] == 10"
   ]
  },
  {
   "cell_type": "code",
   "execution_count": 7,
   "metadata": {},
   "outputs": [],
   "source": [
    "assert grid.best_params_['classify__gamma'] == 0.01"
   ]
  },
  {
   "cell_type": "raw",
   "metadata": {},
   "source": [
    "# END TESTS"
   ]
  },
  {
   "cell_type": "markdown",
   "metadata": {},
   "source": [
    "*Question 2:* One problem with the above is the resolution of the search. However, trying more values is computationally expensive and this lab is only 1.25 hours long! Read https://scikit-learn.org/stable/modules/generated/sklearn.model_selection.HalvingGridSearchCV.html and run a halving grid search for optimal hyperparameters, where you allow `C` to range between 1 and 100 (use `np.arange`) and `gamma` to range between 0.001 and 0.1 in 0.001 increments.  Call your halving grid `hgrid`. What is the best parameter combination from this search? \n",
    "\n",
    "Hints: Run it multiple times and see how it varies. *Don't bother running this search without halving; you'll be here all day! There are 10,000 test cases.*"
   ]
  },
  {
   "cell_type": "raw",
   "metadata": {},
   "source": [
    "# BEGIN SOLUTION"
   ]
  },
  {
   "cell_type": "code",
   "execution_count": 8,
   "metadata": {},
   "outputs": [
    {
     "name": "stdout",
     "output_type": "stream",
     "text": [
      "91.728156 seconds computation time\n",
      "{'classify__C': 7, 'classify__gamma': 0.034}\n",
      "0.9833333333333332\n"
     ]
    }
   ],
   "source": [
    "from sklearn.experimental import enable_halving_search_cv  # noqa\n",
    "from sklearn.model_selection import HalvingGridSearchCV\n",
    "start = time.process_time()\n",
    "# BEGIN SOLUTION\n",
    "param_grid = {\n",
    "    'classify__C': np.arange(1, 101, 1),\n",
    "    'classify__gamma': np.arange(0.001, 0.101, 0.001)\n",
    "}\n",
    "\n",
    "# Set up HalvingGridSearchCV with the pipeline and parameter grid\n",
    "hgrid = HalvingGridSearchCV(pipe, param_grid, cv=5, factor=2, min_resources='exhaust', scoring='accuracy')\n",
    "\n",
    "# Fit the halving grid search to the iris dataset\n",
    "hgrid.fit(iris.data, iris.target)\n",
    "\n",
    "# END SOLUTION\n",
    "# This printout is for my benefit\n",
    "end = time.process_time()\n",
    "print(end - start, \"seconds computation time\")\n",
    "print(hgrid.best_params_)\n",
    "print(hgrid.best_score_)"
   ]
  },
  {
   "cell_type": "raw",
   "metadata": {},
   "source": [
    "# END SOLUTION"
   ]
  },
  {
   "cell_type": "raw",
   "metadata": {},
   "source": [
    "# BEGIN TESTS"
   ]
  },
  {
   "cell_type": "code",
   "execution_count": 9,
   "metadata": {},
   "outputs": [],
   "source": [
    "assert isinstance(hgrid, sklearn.model_selection._search_successive_halving.HalvingGridSearchCV)"
   ]
  },
  {
   "cell_type": "raw",
   "metadata": {},
   "source": [
    "# END TESTS"
   ]
  },
  {
   "cell_type": "markdown",
   "metadata": {},
   "source": [
    "Question 3: Alas, even the halving strategy is very slow. Let's try a faster search pattern. One way to search very efficiently is to use a random search over a known distribution for the parameters. The `scipy` library gives us a set of distributions that return random values. Here's a demo: "
   ]
  },
  {
   "cell_type": "code",
   "execution_count": 10,
   "metadata": {},
   "outputs": [
    {
     "data": {
      "text/plain": [
       "[<matplotlib.lines.Line2D at 0x285e26cc0>]"
      ]
     },
     "execution_count": 10,
     "metadata": {},
     "output_type": "execute_result"
    },
    {
     "data": {
      "image/png": "[encoded data removed]",
      "text/plain": [
       "<Figure size 640x480 with 1 Axes>"
      ]
     },
     "metadata": {},
     "output_type": "display_data"
    }
   ],
   "source": [
    "import scipy.stats as stats\n",
    "foo = stats.expon(10.0)\n",
    "stuff = list()\n",
    "for i in range(1,100): \n",
    "    stuff.append(foo.rvs())\n",
    "plt.plot(stuff)"
   ]
  },
  {
   "cell_type": "markdown",
   "metadata": {},
   "source": [
    "In general, `stats.expon(0, m)` creates an exponential distribution with mean m, while stats.expon(n, m) creates an exponential distribution shifted by n with mean m. \n",
    "\n",
    "Read https://scikit-learn.org/stable/modules/generated/sklearn.model_selection.RandomizedSearchCV.html and then run a randomized search over two random variables: C with an exponential distribution with mean 1 and shift 10.0 and gamma with an exponential distribution with mean 1 and shift .1. Put the result into `rgrid`. Tune the parameter `n_iter` of `RandomizedSearchCV` for a reasonable balance between tuning accuracy and performance. What's the best you can do by repeating this? Type that into the text box below. "
   ]
  },
  {
   "cell_type": "raw",
   "metadata": {},
   "source": [
    "# BEGIN SOLUTION\n",
    "By repeating the search, I observed minor variations in the best hyperparameters (C and gamma) across different runs. However, the highest cross-validated accuracy consistently reached 0.98, demonstrating that the search was effective in identifying strong parameter combinations. This suggests that while exact parameter values might differ slightly, the accuracy is robust at 0.98, so additional tuning is unlikely to significantly improve the model's performance."
   ]
  },
  {
   "cell_type": "code",
   "execution_count": 12,
   "metadata": {},
   "outputs": [
    {
     "name": "stdout",
     "output_type": "stream",
     "text": [
      "0.5338309999999922 seconds computation time\n",
      "{'classify__C': 10.89750472130976, 'classify__gamma': 0.14756384975640854}\n",
      "0.9800000000000001\n"
     ]
    }
   ],
   "source": [
    "from sklearn.model_selection import RandomizedSearchCV\n",
    "from scipy.stats import expon\n",
    "\n",
    "start = time.process_time()\n",
    "# BEGIN SOLUTION\n",
    "param_dist = {\n",
    "    'classify__C': expon(scale=1, loc=10.0),       # C with mean 1 and shifted by 10\n",
    "    'classify__gamma': expon(scale=1, loc=0.1)     # gamma with mean 1 and shifted by 0.1\n",
    "}\n",
    "\n",
    "# Set up RandomizedSearchCV w/ pipeline and parameter dist.\n",
    "rgrid = RandomizedSearchCV(pipe, param_dist, n_iter=100, cv=5, scoring='accuracy', random_state=42)\n",
    "\n",
    "# Fit the randomized search to the iris dataset\n",
    "rgrid.fit(iris.data, iris.target)\n",
    "\n",
    "# END SOLUTION\n",
    "# This printout is for my benefit\n",
    "end = time.process_time()\n",
    "print(end - start, \"seconds computation time\")\n",
    "print(rgrid.best_params_)\n",
    "print(rgrid.best_score_)"
   ]
  },
  {
   "cell_type": "markdown",
   "metadata": {},
   "source": [
    "I get {'classify__C': 11.806416850765888, 'classify__gamma': 0.14855628518704833}\n",
    "with a score of 0.9800000000000001. For `n_iter` = 100, computation time is 1.7 seconds. "
   ]
  },
  {
   "cell_type": "raw",
   "metadata": {},
   "source": [
    "# END SOLUTION"
   ]
  },
  {
   "cell_type": "raw",
   "metadata": {},
   "source": [
    "# BEGIN TESTS"
   ]
  },
  {
   "cell_type": "code",
   "execution_count": 13,
   "metadata": {},
   "outputs": [],
   "source": [
    "assert isinstance(rgrid, sklearn.model_selection._search.RandomizedSearchCV)"
   ]
  },
  {
   "cell_type": "raw",
   "metadata": {},
   "source": [
    "# END TESTS"
   ]
  },
  {
   "cell_type": "raw",
   "metadata": {},
   "source": [
    "# BEGIN QUESTION\n",
    "name: q4\n",
    "export: true\n",
    "manual: true"
   ]
  },
  {
   "cell_type": "markdown",
   "metadata": {},
   "source": [
    "Question 4: Consider the new pipeline: "
   ]
  },
  {
   "cell_type": "code",
   "execution_count": 15,
   "metadata": {},
   "outputs": [],
   "source": [
    "from sklearn.decomposition import PCA\n",
    "p2 = Pipeline([['reduce', PCA(n_components=3)], ['scale', StandardScaler()], ['classify', SVC()]])"
   ]
  },
  {
   "cell_type": "markdown",
   "metadata": {},
   "source": [
    "This does a dimension reduction from 4 dimensions to 3 before rescaling. Using the iris dataset, tune the hyper-parameters for the SVC step in this pipeline via any of the methods you've used (or any other, for that matter). What is the best you can do? What is the accuracy loss from reducing dimension from 4 to 3 dimensions before analysis? Answer these questions in the text box below. "
   ]
  },
  {
   "cell_type": "raw",
   "metadata": {},
   "source": [
    "# BEGIN SOLUTION\n",
    "By applying PCA to reduce the data from 4 to 3 dimensions and tuning the SVC hyperparameters using RandomizedSearchCV, I achieved an accuracy of 0.9800000000000001. The computation time was about 0.39 seconds, which is efficient given the added dimensionality reduction step. Comparing this result to the baseline accuracy without PCA (0.98), there is an accuracy loss of a negligible amount. While dimensionality reduction simplifies the data and speeds up computation, it may reduce the model’s performance slightly due to the loss of information in the discarded dimension. In this case, however, this did not seem to occur."
   ]
  },
  {
   "cell_type": "code",
   "execution_count": 17,
   "metadata": {},
   "outputs": [
    {
     "name": "stdout",
     "output_type": "stream",
     "text": [
      "0.36006500000000585 seconds computation time\n"
     ]
    },
    {
     "data": {
      "text/plain": [
       "0.9800000000000001"
      ]
     },
     "execution_count": 17,
     "metadata": {},
     "output_type": "execute_result"
    }
   ],
   "source": [
    "start = time.process_time()\n",
    "# BEGIN SOLUTION\n",
    "\n",
    "# Define the parameter distributions for the SVC hyperparameters\n",
    "param_dist = {\n",
    "    'classify__C': expon(scale=1, loc=10.0),       # C with mean 1 and shifted by 10\n",
    "    'classify__gamma': expon(scale=1, loc=0.1)     # gamma with mean 1 and shifted by 0.1\n",
    "}\n",
    "\n",
    "# Set up RandomizedSearchCV with the new pipeline and parameter distributions\n",
    "rgrid_pca = RandomizedSearchCV(p2, param_dist, n_iter=50, cv=5, scoring='accuracy', random_state=42)\n",
    "\n",
    "# Fit the randomized search to the iris dataset\n",
    "rgrid_pca.fit(iris.data, iris.target)\n",
    "\n",
    "# END SOLUTION\n",
    "# This printout is for my benefit\n",
    "end = time.process_time()\n",
    "print(end - start, \"seconds computation time\")\n",
    "rgrid_pca.best_score_"
   ]
  },
  {
   "cell_type": "markdown",
   "metadata": {},
   "source": []
  },
  {
   "cell_type": "raw",
   "metadata": {},
   "source": [
    "# END SOLUTION"
   ]
  }
 ],
 "metadata": {
  "kernelspec": {
   "display_name": "Python 3 (ipykernel)",
   "language": "python",
   "name": "python3"
  },
  "language_info": {
   "codemirror_mode": {
    "name": "ipython",
    "version": 3
   },
   "file_extension": ".py",
   "mimetype": "text/x-python",
   "name": "python",
   "nbconvert_exporter": "python",
   "pygments_lexer": "ipython3",
   "version": "3.12.4"
  }
 },
 "nbformat": 4,
 "nbformat_minor": 4
}
